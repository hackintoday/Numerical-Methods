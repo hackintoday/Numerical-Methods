{
 "cells": [
  {
   "cell_type": "markdown",
   "metadata": {},
   "source": [
    "Question 1 bisection"
   ]
  },
  {
   "cell_type": "code",
   "execution_count": 17,
   "metadata": {},
   "outputs": [],
   "source": [
    "import sys\n",
    "\n",
    "def f(x):\n",
    "    return x**3 - 5\n",
    "\n",
    "\n",
    "def bisection(a, b, tol):\n",
    "    y=0\n",
    "    while(abs(a-b) >= tol):\n",
    "        print(abs(a-b), a, b)\n",
    "        y = y + 1\n",
    "        c = (a+b)/2\n",
    "        if(f(c) == 0):\n",
    "            break\n",
    "        elif(f(b)*f(c) < 0):\n",
    "            a = c\n",
    "        else:\n",
    "            b = c\n",
    "    return y, c\n",
    "        \n",
    "    "
   ]
  },
  {
   "cell_type": "code",
   "execution_count": 18,
   "metadata": {},
   "outputs": [
    {
     "name": "stdout",
     "output_type": "stream",
     "text": [
      "1 1 2\n",
      "0.5 1.5 2\n",
      "0.25 1.5 1.75\n",
      "0.125 1.625 1.75\n",
      "0.0625 1.6875 1.75\n",
      "0.03125 1.6875 1.71875\n",
      "0.015625 1.703125 1.71875\n",
      "0.0078125 1.703125 1.7109375\n",
      "0.00390625 1.70703125 1.7109375\n",
      "0.001953125 1.708984375 1.7109375\n",
      "0.0009765625 1.7099609375 1.7109375\n",
      "0.00048828125 1.7099609375 1.71044921875\n",
      "0.000244140625 1.7099609375 1.710205078125\n",
      "0.0001220703125 1.7099609375 1.7100830078125\n"
     ]
    },
    {
     "data": {
      "text/plain": [
       "(14, 1.71002197265625)"
      ]
     },
     "execution_count": 18,
     "metadata": {},
     "output_type": "execute_result"
    }
   ],
   "source": [
    "bisection(1, 2, 10**(-4))"
   ]
  },
  {
   "cell_type": "code",
   "execution_count": 14,
   "metadata": {},
   "outputs": [
    {
     "data": {
      "text/plain": [
       "-4.60259795531659e-05"
      ]
     },
     "execution_count": 14,
     "metadata": {},
     "output_type": "execute_result"
    }
   ],
   "source": [
    "5**(1/3) -  1.71002197265625"
   ]
  },
  {
   "cell_type": "markdown",
   "metadata": {},
   "source": [
    "#Question 3 Bisection"
   ]
  },
  {
   "cell_type": "code",
   "execution_count": 9,
   "metadata": {},
   "outputs": [
    {
     "name": "stdout",
     "output_type": "stream",
     "text": [
      "0.24\n",
      "0.36\n",
      "0.42\n",
      "0.44999999999999996\n",
      "0.43499999999999994\n",
      "0.44249999999999995\n",
      "0.4462499999999999\n",
      "0.44812499999999994\n",
      "0.44718749999999996\n",
      "0.44765625\n"
     ]
    },
    {
     "data": {
      "text/plain": [
       "0.44765625"
      ]
     },
     "execution_count": 9,
     "metadata": {},
     "output_type": "execute_result"
    }
   ],
   "source": [
    "import sys\n",
    "from math import *\n",
    "\n",
    "def g(x):\n",
    "    return tan(pi*x)-6\n",
    "\n",
    "def bisectionhw(a, b):\n",
    "    for i in range(0, 10):\n",
    "        c = (a+b)/2\n",
    "        print(c)\n",
    "        if(g(b)*g(c) < 0):\n",
    "            a = c\n",
    "        else:\n",
    "            b = c\n",
    "    return c\n",
    "\n",
    "bisectionhw(0, 0.48)\n",
    "        "
   ]
  },
  {
   "cell_type": "markdown",
   "metadata": {},
   "source": [
    "method of "
   ]
  },
  {
   "cell_type": "code",
   "execution_count": 55,
   "metadata": {},
   "outputs": [
    {
     "name": "stdout",
     "output_type": "stream",
     "text": [
      "0.18119424169051174\n",
      "0.2861871658222898\n",
      "0.3489812274239058\n",
      "0.38705262118447054\n",
      "0.41030471988375605\n",
      "0.4245664829260049\n",
      "0.4333363130168665\n",
      "0.4387374086143911\n",
      "0.44206694908170113\n",
      "0.44412066175818793\n"
     ]
    },
    {
     "data": {
      "text/plain": [
       "0.44412066175818793"
      ]
     },
     "execution_count": 55,
     "metadata": {},
     "output_type": "execute_result"
    }
   ],
   "source": [
    "import sys\n",
    "\n",
    "def method(a, b):\n",
    "    for i in range(0, 10):\n",
    "        if (a*g(b)-b*g(a) == 0):\n",
    "            print('unable to perform calculation')\n",
    "            break\n",
    "        else:\n",
    "            c = (a*g(b)-b*g(a))/(float(g(b) - g(a)))\n",
    "            print(c)\n",
    "            if(g(b)*g(c) < 0):\n",
    "                a = c\n",
    "            else:\n",
    "                b = c\n",
    "    return c\n",
    "\n",
    "method(0, 0.48)"
   ]
  },
  {
   "cell_type": "markdown",
   "metadata": {},
   "source": [
    "Secant Method"
   ]
  },
  {
   "cell_type": "code",
   "execution_count": 2,
   "metadata": {},
   "outputs": [],
   "source": [
    "#testcode\n",
    "\n",
    "def k(x):\n",
    "    return x*(x-3)*(x-2)\n",
    "def d(x):\n",
    "    return 3*x**2-10*x+6\n",
    "def testnewton(a):\n",
    "    for i in range(0, 11):\n",
    "        a = a - k(a)/d(a)\n",
    "        print(a)\n",
    "    return a\n",
    "#HWcode\n",
    "\n",
    "def secanteq(a,b):\n",
    "    return b - (g(b)*(b-a))/(g(b)-g(a))\n",
    "    \n",
    "def secant(a, b):\n",
    "    for i in range(0, 10):\n",
    "        x = a\n",
    "        a = b\n",
    "        b = secanteq(x,b)\n",
    "        print(b)\n",
    "    return b\n"
   ]
  },
  {
   "cell_type": "code",
   "execution_count": 6,
   "metadata": {},
   "outputs": [
    {
     "name": "stdout",
     "output_type": "stream",
     "text": [
      "0.18119424169051174\n",
      "0.2861871658222898\n",
      "1.0919861065027499\n",
      "-3.6922966654011073\n",
      "-22.60064985474053\n",
      "-57.22283247260205\n",
      "3.5387581457345476\n",
      "-113.94440504807905\n",
      "-195.89499482451663\n",
      "-2989.9400375314453\n"
     ]
    },
    {
     "data": {
      "text/plain": [
       "-2989.9400375314453"
      ]
     },
     "execution_count": 6,
     "metadata": {},
     "output_type": "execute_result"
    }
   ],
   "source": [
    "secant(0, 0.48)"
   ]
  },
  {
   "cell_type": "code",
   "execution_count": 66,
   "metadata": {},
   "outputs": [
    {
     "data": {
      "text/plain": [
       "33.11363509138597"
      ]
     },
     "execution_count": 66,
     "metadata": {},
     "output_type": "execute_result"
    }
   ],
   "source": [
    "(g(0.48)-g(0))/(0.48-0)"
   ]
  },
  {
   "cell_type": "code",
   "execution_count": 67,
   "metadata": {},
   "outputs": [
    {
     "data": {
      "text/plain": [
       "-24.868266528596767"
      ]
     },
     "execution_count": 67,
     "metadata": {},
     "output_type": "execute_result"
    }
   ],
   "source": [
    "dg(0.48)"
   ]
  },
  {
   "cell_type": "code",
   "execution_count": 60,
   "metadata": {},
   "outputs": [
    {
     "name": "stdout",
     "output_type": "stream",
     "text": [
      "3.428571428571429\n",
      "3.1278195488721807\n",
      "3.017076444687014\n",
      "3.0003749431439752\n",
      "3.0000001872909996\n",
      "3.0000000000000466\n",
      "3.0\n",
      "3.0\n",
      "3.0\n",
      "3.0\n",
      "3.0\n"
     ]
    },
    {
     "data": {
      "text/plain": [
       "3.0"
      ]
     },
     "execution_count": 60,
     "metadata": {},
     "output_type": "execute_result"
    }
   ],
   "source": [
    "testnewton(4)"
   ]
  },
  {
   "cell_type": "code",
   "execution_count": null,
   "metadata": {},
   "outputs": [],
   "source": []
  },
  {
   "cell_type": "code",
   "execution_count": null,
   "metadata": {},
   "outputs": [],
   "source": []
  }
 ],
 "metadata": {
  "kernelspec": {
   "display_name": "Python 3",
   "language": "python",
   "name": "python3"
  },
  "language_info": {
   "codemirror_mode": {
    "name": "ipython",
    "version": 3
   },
   "file_extension": ".py",
   "mimetype": "text/x-python",
   "name": "python",
   "nbconvert_exporter": "python",
   "pygments_lexer": "ipython3",
   "version": "3.6.5"
  }
 },
 "nbformat": 4,
 "nbformat_minor": 2
}
