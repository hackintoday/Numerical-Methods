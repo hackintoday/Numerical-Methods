{
 "cells": [
  {
   "cell_type": "markdown",
   "metadata": {},
   "source": [
    "Question 5 Newton"
   ]
  },
  {
   "cell_type": "code",
   "execution_count": 9,
   "metadata": {},
   "outputs": [],
   "source": [
    "import sys\n",
    "from math import *\n",
    "\n",
    "b = 0\n",
    "\n",
    "def f(x):\n",
    "    return e**(6*x)+3*((log(2))**2)*(e**(2*x)) - log(8)*(e**(4*x))-((log(2))**3)\n",
    "    \n",
    "def diffg(x):\n",
    "    return 6*e**(6*x)+6*((log(2))**2)*(e**(2*x)) - 4*log(8)*(e**(4*x))\n",
    "\n",
    "def newton(a,b):\n",
    "    while(abs((a-b)) >= 0.0002):\n",
    "        a = a - f(a)/diffg(a)\n",
    "        print(a)\n",
    "        b = a - f(a)/diffg(a)\n",
    "    return a\n",
    "            \n",
    "        "
   ]
  },
  {
   "cell_type": "code",
   "execution_count": 10,
   "metadata": {},
   "outputs": [
    {
     "name": "stdout",
     "output_type": "stream",
     "text": [
      "-0.051142136573342496\n",
      "-0.08984247581502683\n",
      "-0.11824473602582486\n",
      "-0.13856559584000783\n",
      "-0.15281619296929744\n",
      "-0.16266025259025893\n",
      "-0.1693861756223201\n",
      "-0.17394606447463817\n",
      "-0.17702081377094916\n",
      "-0.17908645522814726\n",
      "-0.1804706766818764\n",
      "-0.18139668915104937\n",
      "-0.18201546136942204\n",
      "-0.18242861474486308\n",
      "-0.18270433491255775\n"
     ]
    },
    {
     "data": {
      "text/plain": [
       "-0.18270433491255775"
      ]
     },
     "execution_count": 10,
     "metadata": {},
     "output_type": "execute_result"
    }
   ],
   "source": [
    "newton(0,8)"
   ]
  },
  {
   "cell_type": "code",
   "execution_count": 36,
   "metadata": {},
   "outputs": [
    {
     "name": "stdout",
     "output_type": "stream",
     "text": [
      "-0.051142136573342496\n",
      "-0.08984247581502683\n",
      "-0.11824473602582486\n",
      "-0.13856559584000783\n",
      "-0.15281619296929744\n",
      "-0.16266025259025893\n",
      "-0.1693861756223201\n",
      "-0.17394606447463817\n",
      "-0.17702081377094916\n",
      "-0.17908645522814726\n",
      "-0.1804706766818764\n",
      "-0.18139668915104937\n",
      "-0.18201546136942204\n",
      "-0.18242861474486308\n",
      "-0.18270433491255775\n"
     ]
    },
    {
     "data": {
      "text/plain": [
       "4.491576555132326e-10"
      ]
     },
     "execution_count": 36,
     "metadata": {},
     "output_type": "execute_result"
    }
   ],
   "source": [
    "f(newton(0,8))"
   ]
  },
  {
   "cell_type": "code",
   "execution_count": 37,
   "metadata": {},
   "outputs": [
    {
     "data": {
      "text/plain": [
       "0.5649519167898642"
      ]
     },
     "execution_count": 37,
     "metadata": {},
     "output_type": "execute_result"
    }
   ],
   "source": [
    "diffg(0)"
   ]
  },
  {
   "cell_type": "code",
   "execution_count": 42,
   "metadata": {},
   "outputs": [
    {
     "data": {
      "text/plain": [
       "-0.051142136573342496"
      ]
     },
     "execution_count": 42,
     "metadata": {},
     "output_type": "execute_result"
    }
   ],
   "source": [
    "0 - f(0)/diffg(0)"
   ]
  },
  {
   "cell_type": "code",
   "execution_count": 48,
   "metadata": {},
   "outputs": [
    {
     "data": {
      "text/plain": [
       "0.028892848085838863"
      ]
     },
     "execution_count": 48,
     "metadata": {},
     "output_type": "execute_result"
    }
   ],
   "source": [
    "f(0)"
   ]
  }
 ],
 "metadata": {
  "kernelspec": {
   "display_name": "Python 3",
   "language": "python",
   "name": "python3"
  },
  "language_info": {
   "codemirror_mode": {
    "name": "ipython",
    "version": 3
   },
   "file_extension": ".py",
   "mimetype": "text/x-python",
   "name": "python",
   "nbconvert_exporter": "python",
   "pygments_lexer": "ipython3",
   "version": "3.6.5"
  }
 },
 "nbformat": 4,
 "nbformat_minor": 2
}
