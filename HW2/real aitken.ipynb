{
 "cells": [
  {
   "cell_type": "code",
   "execution_count": 2,
   "metadata": {},
   "outputs": [],
   "source": [
    "import sys\n",
    "from math import *\n",
    "\n",
    "def f(x):\n",
    "    return e**(6*x)+3*((log(2))**2)*(e**(2*x)) - log(8)*(e**(4*x))-((log(2))**3)\n",
    "    \n",
    "def df(x):\n",
    "    return 6*e**(6*x)+6*((log(2))**2)*(e**(2*x)) - 4*log(8)*(e**(4*x))\n",
    "\n",
    "def g(f, df, x):\n",
    "    return x - f(x)/df(x)\n",
    "\n",
    "def fpid2(g,s,n):\n",
    "    x,x1,x2 = s,g(f,df,s),g(f,df,g(f,df,s))\n",
    "    for i in range(0,n):\n",
    "        x,x1,x2 = x1,x2,g(f,df,x2)\n",
    "    print(x,(x2*x-x1*x1)/(x2-2*x1+x))\n"
   ]
  },
  {
   "cell_type": "code",
   "execution_count": 4,
   "metadata": {},
   "outputs": [
    {
     "name": "stdout",
     "output_type": "stream",
     "text": [
      "-0.1828882750800471 -0.1832565483863313\n"
     ]
    }
   ],
   "source": [
    "fpid2(g, 0 ,16)"
   ]
  },
  {
   "cell_type": "code",
   "execution_count": null,
   "metadata": {},
   "outputs": [],
   "source": []
  }
 ],
 "metadata": {
  "kernelspec": {
   "display_name": "Python 3",
   "language": "python",
   "name": "python3"
  },
  "language_info": {
   "codemirror_mode": {
    "name": "ipython",
    "version": 3
   },
   "file_extension": ".py",
   "mimetype": "text/x-python",
   "name": "python",
   "nbconvert_exporter": "python",
   "pygments_lexer": "ipython3",
   "version": "3.6.5"
  }
 },
 "nbformat": 4,
 "nbformat_minor": 2
}
