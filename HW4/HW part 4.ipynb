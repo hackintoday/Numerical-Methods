{
 "cells": [
  {
   "cell_type": "code",
   "execution_count": 154,
   "metadata": {},
   "outputs": [],
   "source": [
    "from scipy.interpolate import lagrange\n",
    "import numpy as np\n",
    "from numpy import *\n",
    "from numpy.linalg import inv, solve\n",
    "import sys\n",
    "import math\n",
    "from numpy.polynomial.polynomial import Polynomial\n",
    "import matplotlib.pyplot as plt\n",
    "\n",
    "def f(x):\n",
    "    return 1/(1+2*x)\n",
    "\n",
    "def sumt(n):\n",
    "    x = np.empty(10000000, dtype=float)\n",
    "    initial = 0\n",
    "    for i in range (0,n+1):\n",
    "        x[i] = initial + (1/n)*i\n",
    "    app = ((1/n)/2)*(f(0)+f(1))\n",
    "    for i in range (1,n):\n",
    "        app += ((1/n)/2)*(2*f(x[i]))\n",
    "    return app\n",
    "\n",
    "def simp(n):\n",
    "    x = np.empty(10000000, dtype=float)\n",
    "    initial = 0.0\n",
    "    for i in range (0,n+1):\n",
    "        x[i] = initial + (1/n)*i\n",
    "    app = ((1/n)/6)*(f(0)+f(1))\n",
    "    for i in range (1,n):\n",
    "        app += ((1/n)/6)*(2.0*f(x[i]))\n",
    "    for i in range (1,n+1):\n",
    "        app += ((1/n)/6)*(4.0*f((x[i]+x[i-1])/2.0))\n",
    "    return app"
   ]
  },
  {
   "cell_type": "code",
   "execution_count": 87,
   "metadata": {},
   "outputs": [
    {
     "name": "stdout",
     "output_type": "stream",
     "text": [
      "0.5493071490249569\n",
      "0.5493061443377611\n"
     ]
    }
   ],
   "source": [
    "print(sumt(384))\n",
    "print(sumt(199999))"
   ]
  },
  {
   "cell_type": "code",
   "execution_count": 113,
   "metadata": {},
   "outputs": [
    {
     "data": {
      "text/plain": [
       "0.583994708994709"
      ]
     },
     "execution_count": 113,
     "metadata": {},
     "output_type": "execute_result"
    }
   ],
   "source": [
    "simp(4)"
   ]
  },
  {
   "cell_type": "code",
   "execution_count": 112,
   "metadata": {},
   "outputs": [
    {
     "data": {
      "text/plain": [
       "0.5493626743626743"
      ]
     },
     "execution_count": 112,
     "metadata": {},
     "output_type": "execute_result"
    }
   ],
   "source": [
    "(0.25/6)*(f(0)+f(1)+2*(f(0.25)+f(0.5)+f(0.75))+4*(f(0.25/2)+f(0.75/2)+f(1.25/2)+f(1.75/2)))"
   ]
  },
  {
   "cell_type": "code",
   "execution_count": 155,
   "metadata": {},
   "outputs": [
    {
     "name": "stdout",
     "output_type": "stream",
     "text": [
      "0.5493626743626743\n",
      "0.36363636363636365\n"
     ]
    },
    {
     "data": {
      "text/plain": [
       "0.5493626743626743"
      ]
     },
     "execution_count": 155,
     "metadata": {},
     "output_type": "execute_result"
    }
   ],
   "source": [
    "print((f(0)+f(1))*0.25/6 +2*(f(0.25)+f(0.5)+f(0.75))*0.25/6+(0.25/6)*4*(f(0.125)+f(0.375)+f(0.625)+f(0.875)))\n",
    "print(f(0.875))\n",
    "simp(4)"
   ]
  },
  {
   "cell_type": "code",
   "execution_count": 91,
   "metadata": {},
   "outputs": [
    {
     "name": "stdout",
     "output_type": "stream",
     "text": [
      "385\n"
     ]
    }
   ],
   "source": [
    "for i in range (1, 1000):\n",
    "    if (abs(sumt(i) - log(3.0)/2.0) < 0.000001):\n",
    "        print(i)\n",
    "        break"
   ]
  },
  {
   "cell_type": "code",
   "execution_count": 156,
   "metadata": {},
   "outputs": [
    {
     "name": "stdout",
     "output_type": "stream",
     "text": [
      "12\n"
     ]
    }
   ],
   "source": [
    "for i in range (1, 1000):\n",
    "    if (abs(simp(i) - log(3.0)/2.0) < 0.000001):\n",
    "        print(i)\n",
    "        break"
   ]
  },
  {
   "cell_type": "code",
   "execution_count": 101,
   "metadata": {},
   "outputs": [
    {
     "data": {
      "text/plain": [
       "0.009938669147217194"
      ]
     },
     "execution_count": 101,
     "metadata": {},
     "output_type": "execute_result"
    }
   ],
   "source": [
    "simp(12) - log(3.0)/2.0"
   ]
  }
 ],
 "metadata": {
  "kernelspec": {
   "display_name": "Python 3",
   "language": "python",
   "name": "python3"
  },
  "language_info": {
   "codemirror_mode": {
    "name": "ipython",
    "version": 3
   },
   "file_extension": ".py",
   "mimetype": "text/x-python",
   "name": "python",
   "nbconvert_exporter": "python",
   "pygments_lexer": "ipython3",
   "version": "3.6.5"
  }
 },
 "nbformat": 4,
 "nbformat_minor": 2
}
