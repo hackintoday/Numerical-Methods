{
 "cells": [
  {
   "cell_type": "code",
   "execution_count": 4,
   "metadata": {},
   "outputs": [
    {
     "name": "stdout",
     "output_type": "stream",
     "text": [
      "0.0 0.0 16.0 -136.0\n",
      "1.0 -0.5 -14.0 104.0\n",
      "0.0 -1.0 8.0 -32.0\n",
      "0.25 1.0 -8.0 48.0\n"
     ]
    }
   ],
   "source": [
    "from scipy.interpolate import lagrange\n",
    "import numpy as np\n",
    "from numpy import *\n",
    "import sys\n",
    "import math\n",
    "from numpy.polynomial.polynomial import Polynomial\n",
    "import matplotlib.pyplot as plt\n",
    "\n",
    "x= np.array([0, 0.25, 0.50, 0.75, 1.0])\n",
    "y= np.array([0, 1, 0, 0.25, 0])\n",
    "dy= np.array([0, -0.5, -1, 1, 0])\n",
    "\n",
    "def x0x0x1(a, b):\n",
    "    return ((y[b] - y[a])/(x[b]-x[a])-dy[a])/(x[b]-x[a])\n",
    "\n",
    "def x0x1x1(a,b):\n",
    "    return (dy[b]-(y[b] - y[a])/(x[b]-x[a]))/(x[b]-x[a])\n",
    "\n",
    "def x0x0x1x1(a,b):\n",
    "    return (x0x1x1(a,b) - x0x0x1(a,b))/(x[b] - x[a])\n",
    "\n",
    "for i in range (0,4):\n",
    "    print(y[i], dy[i], x0x0x1(i, i+1), x0x0x1x1(i, i+1))"
   ]
  },
  {
   "cell_type": "code",
   "execution_count": 5,
   "metadata": {},
   "outputs": [
    {
     "data": {
      "image/png": "[encoded data removed]",
      "text/plain": [
       "<Figure size 432x288 with 1 Axes>"
      ]
     },
     "metadata": {},
     "output_type": "display_data"
    }
   ],
   "source": [
    "import matplotlib.pyplot as plt\n",
    "\n",
    "def fun (t): \n",
    "    if x[0] <= t <= x[1]:\n",
    "        return y[0]+ dy[0]*(t-x[0])+x0x0x1(0, 1)*(t-x[0])*(t-x[0])+x0x0x1x1(0, 1)*(t-x[0])*(t-x[0])*(t-x[1])\n",
    "    elif x[1] <= t <= x[2]:\n",
    "        return y[1]+ dy[1]*(t-x[1])+x0x0x1(1, 2)*(t-x[1])*(t-x[1])+x0x0x1x1(1, 2)*(t-x[1])*(t-x[1])*(t-x[2])\n",
    "    elif x[2] <= t <= x[3]:\n",
    "        return y[2]+ dy[2]*(t-x[2])+ x0x0x1(2, 3)*(t-x[2])*(t-x[2])+x0x0x1x1(2, 3)*(t-x[2])*(t-x[2])*(t-x[3])\n",
    "    elif x[3] <= t <= x[4]:\n",
    "        return y[3]+ dy[3]*(t-x[3])+ x0x0x1(3, 4)*(t-x[3])*(t-x[3])+x0x0x1x1(3, 4)*(t-x[3])*(t-x[3])*(t-x[4])\n",
    "\n",
    "vfun = np.vectorize(fun)\n",
    "\n",
    "t = np.linspace(0, 1, 1000)    \n",
    "y = vfun(t)\n",
    "\n",
    "plt.plot(t, y, '-')\n",
    "plt.show()"
   ]
  },
  {
   "cell_type": "code",
   "execution_count": null,
   "metadata": {},
   "outputs": [],
   "source": []
  }
 ],
 "metadata": {
  "kernelspec": {
   "display_name": "Python 3",
   "language": "python",
   "name": "python3"
  },
  "language_info": {
   "codemirror_mode": {
    "name": "ipython",
    "version": 3
   },
   "file_extension": ".py",
   "mimetype": "text/x-python",
   "name": "python",
   "nbconvert_exporter": "python",
   "pygments_lexer": "ipython3",
   "version": "3.6.5"
  }
 },
 "nbformat": 4,
 "nbformat_minor": 2
}
