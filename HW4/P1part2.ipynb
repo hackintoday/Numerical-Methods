{
 "cells": [
  {
   "cell_type": "code",
   "execution_count": 22,
   "metadata": {},
   "outputs": [
    {
     "name": "stdout",
     "output_type": "stream",
     "text": [
      "[[  0.      0.      0.      1.   ]\n",
      " [ 12.     -2.      0.125 -12.   ]\n",
      " [-48.     12.     -1.     48.   ]\n",
      " [ 64.    -16.      2.    -64.   ]]\n"
     ]
    }
   ],
   "source": [
    "from scipy.interpolate import lagrange\n",
    "import numpy as np\n",
    "from numpy import *\n",
    "from numpy.linalg import inv, solve\n",
    "import sys\n",
    "import math\n",
    "from numpy.polynomial.polynomial import Polynomial\n",
    "import matplotlib.pyplot as plt\n",
    "\n",
    "x= np.array([0, 0.25, 0.50, 0.75, 1.0])\n",
    "y= np.array([0, 1, 0, 0.25, 0])\n",
    "dy= np.array([0, -0.5, -1, 1, 0])\n",
    "\n",
    "def matrixinv(i):\n",
    "    A = np.matrix(([1.0, x[i+1]-x[i], (x[i+1]-x[i])**2, (x[i+1]-x[i])**3], \n",
    "                  [0.0, 1.0, 2*(x[i+1]-x[i]), 3*(x[i+1]-x[i])**2], \n",
    "                  [0.0, 0.0, 2.0, 6*(x[i+1]-x[i])],\n",
    "                  [1.0, 0 , 0 ,0]))\n",
    "    print(inv(A))\n",
    "    \n",
    "def matrixinv2(i):\n",
    "    A = np.matrix(([1.0, x[i+1]-x[i], (x[i+1]-x[i])**2, (x[i+1]-x[i])**3], \n",
    "                  [0.0, 1.0, 2*(x[i+1]-x[i]), 3*(x[i+1]-x[i])**2], \n",
    "                  [0.0, 0.0, 2.0, 6*(x[i+1]-x[i])],\n",
    "                  [0.0, 12.0 , -2.0 ,0]))\n",
    "    print(inv(A))\n",
    "\n",
    "matrixinv(0)"
   ]
  },
  {
   "cell_type": "code",
   "execution_count": 62,
   "metadata": {},
   "outputs": [
    {
     "name": "stdout",
     "output_type": "stream",
     "text": [
      "[[  6.53571429]\n",
      " [-40.57142857]\n",
      " [ -1.07142857]\n",
      " [-30.42857143]\n",
      " [ 74.85714286]\n",
      " [ -2.25      ]\n",
      " [ 25.71428571]\n",
      " [-50.85714286]\n",
      " [  1.07142857]\n",
      " [-12.42857143]\n",
      " [ 16.57142857]]\n"
     ]
    }
   ],
   "source": [
    "h = 0.25\n",
    "h2 = 0.25**2\n",
    "h3 = 0.25**3\n",
    "\n",
    "A= np.array([[h,h3,0,0,0,0,0,0,0,0,0],\n",
    "           [0,0,h,h2,h3,0,0,0,0,0,0],\n",
    "           [0,0,0,0,0,h,h2,h3,0,0,0],\n",
    "           [0,0,0,0,0,0,0,0,h,h2,h3],\n",
    "           [1,3*h2,-1,0,0,0,0,0,0,0,0],\n",
    "           [0,0,1,2*h,3*h2,-1,0,0,0,0,0],\n",
    "           [0,0,0,0,0,1,2*h,3*h2,-1,0,0],\n",
    "           [0,6*h,0,-2,0,0,0,0,0,0,0],\n",
    "           [0,0,0,2,6*h,0,-2,0,0,0,0],\n",
    "           [0,0,0,0,0,0,2,6*h,0,-2,0],\n",
    "           [0,0,0,0,0,0,0,0,0,1,3*h]])\n",
    "b = np.array([[1],[-1],[0.25],[-0.25],[0],[0],[0],[0],[0],[0],[0]])\n",
    "\n",
    "z = solve(A,b)\n",
    "\n",
    "print(z)\n"
   ]
  },
  {
   "cell_type": "code",
   "execution_count": 49,
   "metadata": {},
   "outputs": [
    {
     "data": {
      "image/png": "[encoded data removed]",
      "text/plain": [
       "<Figure size 432x288 with 1 Axes>"
      ]
     },
     "metadata": {},
     "output_type": "display_data"
    }
   ],
   "source": [
    "import matplotlib.pyplot as plt\n",
    "\n",
    "def fun (t): \n",
    "    if x[0] <= t <= x[1]:\n",
    "        return z.item(0)*t + z.item(1)*t**3\n",
    "    elif x[1] <= t <= x[2]:\n",
    "        return 1+z.item(2)*(t-0.25)+z.item(3)*(t-0.25)**2+z.item(4)*(t-0.25)**3\n",
    "    elif x[2] <= t <= x[3]:\n",
    "        return z.item(5)*(t-0.5)+z.item(6)*(t-0.5)**2+z.item(7)*(t-0.5)**3\n",
    "    elif x[3] <= t <= x[4]:\n",
    "        return 0.25+z.item(8)*(t-0.75)+z.item(9)*(t-0.75)**2+z.item(10)*(t-0.75)**3\n",
    "\n",
    "vfun = np.vectorize(fun)\n",
    "\n",
    "t = np.linspace(0, 1, 1000)    \n",
    "y = vfun(t)\n",
    "\n",
    "plt.plot(t, y, '-')\n",
    "plt.show()"
   ]
  },
  {
   "cell_type": "code",
   "execution_count": 60,
   "metadata": {},
   "outputs": [
    {
     "name": "stdout",
     "output_type": "stream",
     "text": [
      "[[  45.42857143]\n",
      " [-117.71428571]\n",
      " [   0.64285714]\n",
      " [ -42.85714286]\n",
      " [  97.14285714]\n",
      " [  -2.57142857]\n",
      " [  30.        ]\n",
      " [ -62.85714286]\n",
      " [   0.64285714]\n",
      " [ -17.14285714]\n",
      " [  42.28571429]]\n"
     ]
    }
   ],
   "source": [
    "A1= np.array([[h2,h3,0,0,0,0,0,0,0,0,0],\n",
    "           [0,0,h,h2,h3,0,0,0,0,0,0],\n",
    "           [0,0,0,0,0,h,h2,h3,0,0,0],\n",
    "           [0,0,0,0,0,0,0,0,h,h2,h3],\n",
    "           [2*h,3*h2,-1,0,0,0,0,0,0,0,0],\n",
    "           [0,0,1,2*h,3*h2,-1,0,0,0,0,0],\n",
    "           [0,0,0,0,0,1,2*h,3*h2,-1,0,0],\n",
    "           [2,6*h,0,-2,0,0,0,0,0,0,0],\n",
    "           [0,0,0,2,6*h,0,-2,0,0,0,0],\n",
    "           [0,0,0,0,0,0,2,6*h,0,-2,0],\n",
    "           [0,0,0,0,0,0,0,0,1,2*h,3*h2]])\n",
    "b1 = np.array([[1],[-1],[0.25],[-0.25],[0],[0],[0],[0],[0],[0],[0]])\n",
    "\n",
    "z1 = solve(A1,b1)\n",
    "\n",
    "print(z1)\n"
   ]
  },
  {
   "cell_type": "code",
   "execution_count": 61,
   "metadata": {},
   "outputs": [
    {
     "data": {
      "image/png": "[encoded data removed]",
      "text/plain": [
       "<Figure size 432x288 with 1 Axes>"
      ]
     },
     "metadata": {},
     "output_type": "display_data"
    }
   ],
   "source": [
    "def fun (t): \n",
    "    if x[0] <= t <= x[1]:\n",
    "        return z1.item(0)*t**2 + z1.item(1)*t**3\n",
    "    elif x[1] <= t <= x[2]:\n",
    "        return 1+z1.item(2)*(t-0.25)+z1.item(3)*(t-0.25)**2+z1.item(4)*(t-0.25)**3\n",
    "    elif x[2] <= t <= x[3]:\n",
    "        return z1.item(5)*(t-0.5)+z1.item(6)*(t-0.5)**2+z1.item(7)*(t-0.5)**3\n",
    "    elif x[3] <= t <= x[4]:\n",
    "        return 0.25+z1.item(8)*(t-0.75)+z1.item(9)*(t-0.75)**2+z1.item(10)*(t-0.75)**3\n",
    "\n",
    "vfun = np.vectorize(fun)\n",
    "\n",
    "t = np.linspace(0, 1, 1000)    \n",
    "y = vfun(t)\n",
    "\n",
    "plt.plot(t, y, '-')\n",
    "plt.show()"
   ]
  },
  {
   "cell_type": "code",
   "execution_count": null,
   "metadata": {},
   "outputs": [],
   "source": []
  }
 ],
 "metadata": {
  "kernelspec": {
   "display_name": "Python 3",
   "language": "python",
   "name": "python3"
  },
  "language_info": {
   "codemirror_mode": {
    "name": "ipython",
    "version": 3
   },
   "file_extension": ".py",
   "mimetype": "text/x-python",
   "name": "python",
   "nbconvert_exporter": "python",
   "pygments_lexer": "ipython3",
   "version": "3.6.5"
  }
 },
 "nbformat": 4,
 "nbformat_minor": 2
}
