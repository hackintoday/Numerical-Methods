{
 "cells": [
  {
   "cell_type": "code",
   "execution_count": 6,
   "metadata": {},
   "outputs": [],
   "source": [
    "from scipy.interpolate import lagrange\n",
    "import numpy as np\n",
    "from numpy import *\n",
    "from numpy.linalg import inv, solve\n",
    "import sys\n",
    "import math\n",
    "from numpy.polynomial.polynomial import Polynomial\n",
    "import matplotlib.pyplot as plt\n",
    "\n",
    "def f(x):\n",
    "    return 4/(1+x**2)\n",
    "\n",
    "def sumt(n):\n",
    "    x = np.empty(10000000, dtype=float)\n",
    "    initial = 0\n",
    "    for i in range (0,n+1):\n",
    "        x[i] = initial + (1/n)*i\n",
    "    app = 0\n",
    "    for i in range (1,n):\n",
    "        input1 = ((1/n)*(-sqrt(3/5)) + (x[i]+x[i-1]))/2\n",
    "        input2 = ((x[i]+x[i-1]))/2\n",
    "        input3 = ((1/n)*(sqrt(3/5)) + (x[i]+x[i-1]))/2\n",
    "        app += (5/9)*f(input1) + (8/9)*f(input2) + (5/9)*f(input3)\n",
    "    app = ((1/n)/2)*app\n",
    "    return app"
   ]
  },
  {
   "cell_type": "code",
   "execution_count": 17,
   "metadata": {},
   "outputs": [
    {
     "name": "stdout",
     "output_type": "stream",
     "text": [
      "3.0390510195025495\n",
      "3.0440510168985226\n",
      "3.0485861623476436\n",
      "3.0527183922826904\n",
      "3.0564991094933736\n",
      "3.059971330843504\n",
      "3.0631713301608667\n",
      "3.0661299095030254\n",
      "3.0688733932978116\n",
      "3.0714244133601283\n",
      "3.1395916532564594\n",
      "3.1395936532564583\n",
      "3.1395956492624575\n",
      "3.139597641286378\n",
      "3.1395996293401733\n",
      "3.1396016134356604\n",
      "3.1396035935846696\n",
      "3.1396055697989556\n",
      "3.139607542090236\n",
      "3.1396095104701764\n"
     ]
    }
   ],
   "source": [
    "for i in range (20,30):\n",
    "    print(sumt(i))\n",
    "for i in range (1000,1010):\n",
    "    print(sumt(i))"
   ]
  },
  {
   "cell_type": "code",
   "execution_count": 15,
   "metadata": {},
   "outputs": [
    {
     "data": {
      "text/plain": [
       "3.1415906535886804"
      ]
     },
     "execution_count": 15,
     "metadata": {},
     "output_type": "execute_result"
    }
   ],
   "source": [
    "sumt(1000000)"
   ]
  },
  {
   "cell_type": "code",
   "execution_count": 14,
   "metadata": {},
   "outputs": [
    {
     "name": "stdout",
     "output_type": "stream",
     "text": [
      "1.0000360677690903\n",
      "1.0000036093511744\n"
     ]
    }
   ],
   "source": [
    "def conv(n):\n",
    "    return log(abs((sumt(n)-pi)/(sumt(2*n)-pi)))/log(2)\n",
    "\n",
    "print(conv(10000))\n",
    "print(conv(100000))"
   ]
  },
  {
   "cell_type": "code",
   "execution_count": null,
   "metadata": {},
   "outputs": [],
   "source": []
  }
 ],
 "metadata": {
  "kernelspec": {
   "display_name": "Python 3",
   "language": "python",
   "name": "python3"
  },
  "language_info": {
   "codemirror_mode": {
    "name": "ipython",
    "version": 3
   },
   "file_extension": ".py",
   "mimetype": "text/x-python",
   "name": "python",
   "nbconvert_exporter": "python",
   "pygments_lexer": "ipython3",
   "version": "3.6.5"
  }
 },
 "nbformat": 4,
 "nbformat_minor": 2
}
