{
 "cells": [
  {
   "cell_type": "code",
   "execution_count": 5,
   "metadata": {},
   "outputs": [
    {
     "name": "stdout",
     "output_type": "stream",
     "text": [
      "Romberg integration of <function vectorize1.<locals>.vfunc at 0x0000022BC53FBE18> from [1, 2]\n",
      "\n",
      " Steps  StepSize   Results\n",
      "     1  1.000000  1.386294 \n",
      "     2  0.500000  1.149295  1.070296 \n",
      "     4  0.250000  1.090269  1.070594  1.070613 \n",
      "\n",
      "The final result is 1.0706133750886757 after 5 function evaluations.\n"
     ]
    },
    {
     "name": "stderr",
     "output_type": "stream",
     "text": [
      "C:\\Users\\Jae-Hoon Kim\\Anaconda3\\lib\\site-packages\\scipy\\integrate\\quadrature.py:752: AccuracyWarning: divmax (2) exceeded. Latest difference = 3.175926e-04\n",
      "  AccuracyWarning)\n"
     ]
    }
   ],
   "source": [
    "from scipy.interpolate import lagrange\n",
    "import numpy as np\n",
    "from numpy import *\n",
    "from numpy.linalg import inv, solve\n",
    "import sys\n",
    "import math\n",
    "from numpy.polynomial.polynomial import Polynomial\n",
    "import matplotlib.pyplot as plt\n",
    "from scipy import integrate\n",
    "\n",
    "gaussian = lambda x: x**2*np.log(x)\n",
    "\n",
    "    \n",
    "result = integrate.romberg(gaussian, 1, 2, divmax = 2, show=True)"
   ]
  },
  {
   "cell_type": "code",
   "execution_count": 8,
   "metadata": {},
   "outputs": [
    {
     "data": {
      "text/plain": [
       "1.3286267337431212e-06"
      ]
     },
     "execution_count": 8,
     "metadata": {},
     "output_type": "execute_result"
    }
   ],
   "source": [
    "2**3*log(2)/3 - 7/9 - result"
   ]
  },
  {
   "cell_type": "code",
   "execution_count": 9,
   "metadata": {},
   "outputs": [
    {
     "name": "stdout",
     "output_type": "stream",
     "text": [
      "524.5136204609232\n"
     ]
    }
   ],
   "source": [
    "a= 2**3*log(2)/3 - 7/9 - result\n",
    "print(1/sqrt(a*12/(2*log(2)+3)))"
   ]
  }
 ],
 "metadata": {
  "kernelspec": {
   "display_name": "Python 3",
   "language": "python",
   "name": "python3"
  },
  "language_info": {
   "codemirror_mode": {
    "name": "ipython",
    "version": 3
   },
   "file_extension": ".py",
   "mimetype": "text/x-python",
   "name": "python",
   "nbconvert_exporter": "python",
   "pygments_lexer": "ipython3",
   "version": "3.6.5"
  }
 },
 "nbformat": 4,
 "nbformat_minor": 2
}
