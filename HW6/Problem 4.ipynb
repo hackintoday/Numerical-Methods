{
 "cells": [
  {
   "cell_type": "code",
   "execution_count": 11,
   "metadata": {},
   "outputs": [],
   "source": [
    "from scipy.interpolate import lagrange\n",
    "import numpy as np\n",
    "from numpy import *\n",
    "from numpy.linalg import inv, solve\n",
    "import sys\n",
    "import math\n",
    "from numpy.polynomial.polynomial import Polynomial\n",
    "import matplotlib.pyplot as plt\n",
    "\n",
    "y0 = 1/901\n",
    "t0 = -3\n",
    "\n",
    "def f(t,y):\n",
    "    return -200*t*y**2\n",
    "\n",
    "def heun(t,y,h):\n",
    "    return y + (1/2)*h*(f(t,y) + f(t+h, y+h*f(t,y)))\n",
    "\n",
    "def g(t):\n",
    "    return 1/(1+100*t**2)\n",
    "\n",
    "\n",
    "#recursive forumula: gives me accepted step size\n",
    "def choice(t,y,h):\n",
    "    tau = (heun(t+h, heun(t,y,h), h) - heun(t, y, 2*h))/((2*h)**3)*(1-2**(-2))\n",
    "    ht = ((10**(-5))/(10*2.9*abs(tau)))**(1/2)\n",
    "    return ht\n",
    "    #h = ht\n",
    "    #tau = (heun(t+h, heun(t,y,h), h) - heun(t, y, 2*h))/((2*h)**3)*(1-2**(-2))\n",
    "    #ht = ((10**(-5))/(10*3*abs(tau)))**(1/2)\n",
    "    #if ht <= 2*h/4:\n",
    "    #    print(h)\n",
    "    #    print(ht)\n",
    "    #    h = ht\n",
    "    #    choice(t,y,h)\n",
    "    #else:\n",
    "    #    return h\n",
    "    \n",
    "#calculates maximum error for adaptive function, also prints number of fn evaluations\n",
    "def ivpf(t,y,h):\n",
    "    app = y\n",
    "    e = np.empty(10000000, dtype=float)\n",
    "    i = 0\n",
    "   \n",
    "    while t < 3:\n",
    "        h = choice(t,y,h)\n",
    "        app = (2**2*heun(t,heun(t,app,h),h) - heun(t, app, 2*h))/(2**2 - 1)\n",
    "        t = t + h\n",
    "        e[i] = abs(g(t) - app)\n",
    "        i += 1\n",
    "    print(i+1)\n",
    "    return max(e)\n",
    "\n",
    "#calculates error for uniform interval Heun's 2nd order method, also prints number of fn evaluations\n",
    "def ivp(t,y,h):\n",
    "    x = np.empty(10000000, dtype=float)\n",
    "    e = np.empty(10000000, dtype=float)\n",
    "    initial = t\n",
    "    print(int(6/h)+1)\n",
    "    for i in range (0,int(6/h)+1):\n",
    "        x[i] = initial + h*i\n",
    "    app = y\n",
    "    for i in range (0,int(6/h)+1):\n",
    "        app = heun(x[i], app, h) \n",
    "        e[i] = abs(g(x[i]) - app)\n",
    "    return max(e)"
   ]
  },
  {
   "cell_type": "code",
   "execution_count": 3,
   "metadata": {},
   "outputs": [],
   "source": [
    "t= 0.1\n",
    "y = 0.5\n",
    "h= 0.01"
   ]
  },
  {
   "cell_type": "code",
   "execution_count": 60,
   "metadata": {},
   "outputs": [
    {
     "data": {
      "text/plain": [
       "0.4102395687921792"
      ]
     },
     "execution_count": 60,
     "metadata": {},
     "output_type": "execute_result"
    }
   ],
   "source": [
    "heun(t+h, heun(t,y,h), h)"
   ]
  },
  {
   "cell_type": "code",
   "execution_count": 4,
   "metadata": {},
   "outputs": [
    {
     "data": {
      "text/plain": [
       "0.41159999999999997"
      ]
     },
     "execution_count": 4,
     "metadata": {},
     "output_type": "execute_result"
    }
   ],
   "source": [
    "heun(t,y,2*h)"
   ]
  },
  {
   "cell_type": "code",
   "execution_count": 10,
   "metadata": {},
   "outputs": [
    {
     "name": "stdout",
     "output_type": "stream",
     "text": [
      "-127.54042573319583\n"
     ]
    }
   ],
   "source": [
    "tau=(heun(t+h, heun(t,y,h), h) - heun(t, y, 2*h))/((2*h)**3)*(1-2**(-2))\n",
    "print(tau)"
   ]
  },
  {
   "cell_type": "code",
   "execution_count": 15,
   "metadata": {},
   "outputs": [
    {
     "data": {
      "text/plain": [
       "True"
      ]
     },
     "execution_count": 15,
     "metadata": {},
     "output_type": "execute_result"
    }
   ],
   "source": [
    "(10**(-5)/(10*3*abs(tau)))**(1/2) <= 2*h/4"
   ]
  },
  {
   "cell_type": "code",
   "execution_count": 18,
   "metadata": {},
   "outputs": [
    {
     "name": "stdout",
     "output_type": "stream",
     "text": [
      "4.9691505602263354e-05\n",
      "4.9526977627711844e-05\n",
      "4.95269507244153e-05\n",
      "4.952695564573202e-05\n",
      "4.9526955481659253e-05\n"
     ]
    }
   ],
   "source": [
    "print(choice(0.1,0.5,0.001))\n",
    "print(choice(t,y,4.9691505602263354e-05))\n",
    "print(choice(t,y,4.9526977627711844e-05))\n",
    "print(choice(t,y,4.95269507244153e-05))\n",
    "print(choice(t,y,4.952695564573202e-05))"
   ]
  },
  {
   "cell_type": "code",
   "execution_count": 9,
   "metadata": {},
   "outputs": [
    {
     "data": {
      "text/plain": [
       "5.112289526930499e-05"
      ]
     },
     "execution_count": 9,
     "metadata": {},
     "output_type": "execute_result"
    }
   ],
   "source": [
    "choice(t,y,h)"
   ]
  },
  {
   "cell_type": "code",
   "execution_count": 142,
   "metadata": {},
   "outputs": [
    {
     "name": "stdout",
     "output_type": "stream",
     "text": [
      "3000001\n"
     ]
    },
    {
     "data": {
      "text/plain": [
       "9.999899998003325e-06"
      ]
     },
     "execution_count": 142,
     "metadata": {},
     "output_type": "execute_result"
    }
   ],
   "source": [
    "ivp(0.1, 0.5, 0.000002)"
   ]
  },
  {
   "cell_type": "code",
   "execution_count": 11,
   "metadata": {
    "scrolled": true
   },
   "outputs": [
    {
     "name": "stdout",
     "output_type": "stream",
     "text": [
      "4048360\n"
     ]
    },
    {
     "data": {
      "text/plain": [
       "0.08578092792884692"
      ]
     },
     "execution_count": 11,
     "metadata": {},
     "output_type": "execute_result"
    }
   ],
   "source": [
    "ivpf(0.1, 0.5, 0.01)"
   ]
  },
  {
   "cell_type": "code",
   "execution_count": null,
   "metadata": {},
   "outputs": [],
   "source": []
  }
 ],
 "metadata": {
  "kernelspec": {
   "display_name": "Python 3",
   "language": "python",
   "name": "python3"
  },
  "language_info": {
   "codemirror_mode": {
    "name": "ipython",
    "version": 3
   },
   "file_extension": ".py",
   "mimetype": "text/x-python",
   "name": "python",
   "nbconvert_exporter": "python",
   "pygments_lexer": "ipython3",
   "version": "3.6.5"
  }
 },
 "nbformat": 4,
 "nbformat_minor": 2
}
