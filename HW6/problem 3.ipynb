{
 "cells": [
  {
   "cell_type": "code",
   "execution_count": 2,
   "metadata": {},
   "outputs": [
    {
     "name": "stdout",
     "output_type": "stream",
     "text": [
      "0.006494988541995594\n",
      "0.012987817096836607\n",
      "0.01947996168101851\n",
      "0.03894150597163726\n",
      "0.06472188823734881\n",
      "0.12701941522539095\n",
      "0.18342767441733654\n",
      "0.3035275891454951\n",
      "0.40591093465201333\n",
      "0.5944038512457471\n"
     ]
    }
   ],
   "source": [
    "from scipy.interpolate import lagrange\n",
    "import numpy as np\n",
    "from numpy import *\n",
    "from numpy.linalg import inv, solve\n",
    "import sys\n",
    "import math\n",
    "from numpy.polynomial.polynomial import Polynomial\n",
    "import matplotlib.pyplot as plt\n",
    "\n",
    "y0 = 1/901\n",
    "t0 = -3\n",
    "\n",
    "def f(t,y):\n",
    "    return -200*t*y**2\n",
    "\n",
    "def k1(t,y):\n",
    "    return f(t,y)\n",
    "\n",
    "def k2(t,y,h):\n",
    "    return f(t+h/2, y+h*k1(t,y)/2)\n",
    "\n",
    "def k3(t,y,h):\n",
    "    return f(t+h/2, y+h*k2(t,y,h)/2)\n",
    "\n",
    "def k4(t,y,h):\n",
    "    return f(t+h, y+h*k3(t,y,h))\n",
    "\n",
    "def runge4(t,y,h):\n",
    "    return y + h*(k1(t,y)+2*k2(t,y,h)+2*k3(t,y,h)+k4(t,y,h))/6\n",
    "\n",
    "def g(t):\n",
    "    return 1/(1+100*t**2)\n",
    "\n",
    "def ivp(t,y,h):\n",
    "    x = np.empty(10000000, dtype=float)\n",
    "    e = np.empty(10000000, dtype=float)\n",
    "    initial = t\n",
    "    for i in range (0,int(6/h)+1):\n",
    "        x[i] = initial + h*i\n",
    "    app = y\n",
    "    for i in range (0,int(6/h)+1):\n",
    "        app = runge4(x[i], app, h) \n",
    "        e[i] = abs(g(x[i]) - app)\n",
    "    return max(e)\n",
    "\n",
    "\n",
    "print(ivp(-3,1/901,0.001))\n",
    "print(ivp(-3,1/901,0.002))\n",
    "print(ivp(-3,1/901,0.003))\n",
    "print(ivp(-3,1/901,0.006))\n",
    "print(ivp(-3,1/901,0.01))\n",
    "print(ivp(-3,1/901,0.02))\n",
    "print(ivp(-3,1/901,0.03))\n",
    "print(ivp(-3,1/901,0.05))\n",
    "print(ivp(-3,1/901,0.07))\n",
    "print(ivp(-3,1/901,0.1))\n",
    "\n",
    "   "
   ]
  },
  {
   "cell_type": "code",
   "execution_count": null,
   "metadata": {},
   "outputs": [],
   "source": [
    "t = np.arange(0.0001, 0.1, 0.0001)\n",
    "vp = np.vectorize(ivp)\n",
    "\n",
    "plt.plot(t, vp(-3, 1/901, t),'r')\n",
    "plt.legend()\n",
    "plt.show()\n"
   ]
  },
  {
   "cell_type": "code",
   "execution_count": null,
   "metadata": {},
   "outputs": [],
   "source": []
  }
 ],
 "metadata": {
  "kernelspec": {
   "display_name": "Python 3",
   "language": "python",
   "name": "python3"
  },
  "language_info": {
   "codemirror_mode": {
    "name": "ipython",
    "version": 3
   },
   "file_extension": ".py",
   "mimetype": "text/x-python",
   "name": "python",
   "nbconvert_exporter": "python",
   "pygments_lexer": "ipython3",
   "version": "3.6.5"
  }
 },
 "nbformat": 4,
 "nbformat_minor": 2
}
