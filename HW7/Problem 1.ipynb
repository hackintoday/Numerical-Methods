{
 "cells": [
  {
   "cell_type": "code",
   "execution_count": 118,
   "metadata": {},
   "outputs": [],
   "source": [
    "from scipy.interpolate import lagrange\n",
    "import numpy as np\n",
    "from numpy import *\n",
    "from numpy.linalg import inv, solve\n",
    "import sys\n",
    "import math\n",
    "from numpy.polynomial.polynomial import Polynomial\n",
    "import matplotlib.pyplot as plt\n",
    "\n",
    "y0 = 1/901\n",
    "t0 = -3\n",
    "\n",
    "def f(t,y):\n",
    "    return -200*t*y**2\n",
    "\n",
    "def k1(t,y):\n",
    "    return f(t,y)\n",
    "\n",
    "def k2(t,y,h):\n",
    "    return f(t+h/2, y+h*k1(t,y)/2)\n",
    "\n",
    "def k3(t,y,h):\n",
    "    return f(t+h/2, y+h*k2(t,y,h)/2)\n",
    "\n",
    "def k4(t,y,h):\n",
    "    return f(t+h, y+h*k3(t,y,h))\n",
    "\n",
    "def runge4(t,y,h):\n",
    "    return y + h*(k1(t,y)+2*k2(t,y,h)+2*k3(t,y,h)+k4(t,y,h))/6\n",
    "\n",
    "def g(t):\n",
    "    return 1/(1+100*t**2)\n",
    "\n",
    "def ivpc1(t,y,h,n):\n",
    "    x = np.empty(10000000, dtype=float)\n",
    "    initial = t\n",
    "    for i in range (0,int(6/h)+1):\n",
    "        x[i] = initial + h*i\n",
    "    yn4 = y\n",
    "    yn3 = runge4(x[0], yn4, h)\n",
    "    yn2 = runge4(x[1], yn3, h)\n",
    "    yn1 = runge4(x[2], yn2, h)\n",
    "    fn4 = f(initial, yn4)\n",
    "    fn3 = f(x[1], yn3)\n",
    "    fn2 = f(x[2], yn2)\n",
    "    fn1 = f(x[3], yn1)\n",
    "    fc = 0\n",
    "    initial = initial + h*3\n",
    "    for i in range(3, n):\n",
    "        yn0 = yn1 + h*(55*fn1 - 59*fn2 + 32*fn3 - 9*fn4)/24\n",
    "        initial += h\n",
    "        #print(initial)\n",
    "        yn0 = yn1 + h*(9*f(initial , yn0) + 19*fn1 - 5*fn2 + fn3)/24\n",
    "        fc = f(initial, yn0)\n",
    "        #print(fc)\n",
    "        yn1 = yn0\n",
    "        fn4 = fn3\n",
    "        fn3 = fn2\n",
    "        fn2 = fn1\n",
    "        fn1 = fc\n",
    "        #e[i] = abs(g(x[i]) - app)\n",
    "    return g(initial) - fc\n",
    "\n",
    "def ivpc2(t,y,h,n):\n",
    "    #x = np.empty(10000000, dtype=float)\n",
    "    #e = np.empty(10000000, dtype=float)\n",
    "    initial = t\n",
    "    #for i in range (0,int(6/h)):\n",
    "    #    x[i] = initial + h*i\n",
    "    yn4 = y\n",
    "    yn3 = runge4(initial, yn4, h)\n",
    "    yn2 = runge4(initial+h, yn3, h)\n",
    "    yn1 = runge4(initial+h*2, yn2, h)\n",
    "    fn4 = f(initial, yn4)\n",
    "    fn3 = f(initial+h, yn3)\n",
    "    fn2 = f(initial+h*2, yn2)\n",
    "    fn1 = f(initial+h*3, yn1)\n",
    "    fc = 0\n",
    "    initial = t + h*3\n",
    "    for i in range(3, n):\n",
    "        yn0 = yn1 + h*(55*fn1 - 59*fn2 + 32*fn3 - 9*fn4)/24\n",
    "        initial += h\n",
    "        #print(initial)\n",
    "        yn0 = yn1 + h*(9*f(initial, yn0) + 19*fn1 - 5*fn2 + fn3)/24\n",
    "        yn0 = yn1 + h*(9*f(initial, yn0) + 19*fn1 - 5*fn2 + fn3)/24\n",
    "        fc = f(initial, yn0)\n",
    "        yn1 = yn0\n",
    "        fn4 = fn3\n",
    "        fn3 = fn2\n",
    "        fn2 = fn1\n",
    "        fn1 = fc\n",
    "        #e[i] = abs(g(x[i]) - app)\n",
    "    return g(initial) - fc\n",
    "\n"
   ]
  },
  {
   "cell_type": "code",
   "execution_count": 119,
   "metadata": {},
   "outputs": [
    {
     "name": "stdout",
     "output_type": "stream",
     "text": [
      "0.0018222137612556263\n",
      "0.0018353767126234872\n",
      "0.0018420121131963816\n",
      "0.0018454278365299041\n",
      "0.0018504777434674342\n",
      "0.0018491713589579304\n",
      "0.00184900078151146\n",
      "0.0018489785289427904\n"
     ]
    }
   ],
   "source": [
    "print(ivpc1(t0, y0, 0.05, 120))\n",
    "print(ivpc1(t0, y0, 0.025, 240))\n",
    "print(ivpc1(t0, y0, 0.0125, 480))\n",
    "print(ivpc1(t0, y0, 0.00625, 960))\n",
    "print(ivpc2(t0, y0, 0.05, 120))\n",
    "print(ivpc2(t0, y0, 0.025, 240))\n",
    "print(ivpc2(t0, y0, 0.0125, 480))\n",
    "print(ivpc2(t0, y0, 0.00625, 960))"
   ]
  },
  {
   "cell_type": "code",
   "execution_count": 4,
   "metadata": {},
   "outputs": [
    {
     "data": {
      "text/plain": [
       "0.0011098779134295228"
      ]
     },
     "execution_count": 4,
     "metadata": {},
     "output_type": "execute_result"
    }
   ],
   "source": [
    "g(3)"
   ]
  },
  {
   "cell_type": "code",
   "execution_count": 107,
   "metadata": {},
   "outputs": [
    {
     "name": "stdout",
     "output_type": "stream",
     "text": [
      "0.0018489785289427904\n"
     ]
    }
   ],
   "source": [
    "print(ivpc2(t0, y0, 0.00625, 960))"
   ]
  },
  {
   "cell_type": "code",
   "execution_count": 115,
   "metadata": {},
   "outputs": [
    {
     "name": "stdout",
     "output_type": "stream",
     "text": [
      "0.00035201919289341074\n",
      "0.00037202985780284347\n",
      "0.000370729851276738\n"
     ]
    }
   ],
   "source": [
    "initial = t0\n",
    "yn4 = y0\n",
    "h = 0.00625\n",
    "yn3 = runge4(initial, yn4, h)\n",
    "yn2 = runge4(initial+h, yn3, h)\n",
    "yn1 = runge4(initial+h*2, yn2, h)\n",
    "yn = runge4(initial+h*3, yn1, h)\n",
    "yn0 = 0\n",
    "fn4 = f(initial, yn4)\n",
    "fn3 = f(initial+h, yn3)\n",
    "fn2 = f(initial+h*2, yn2)\n",
    "fn1 = f(initial+h*3, yn1)\n",
    "fn = f(initial+h*4, yn)\n",
    "print(abs(g(initial) - fn))\n",
    "fc = 0\n",
    "initial = t0 + h*3\n",
    "yn0 = yn1 + h*(55*fn1 - 59*fn2 + 32*fn3 - 9*fn4)/24\n",
    "initial += h\n",
    "print(abs(g(initial) - f(initial, yn0)))\n",
    "yn0 = yn1 + h*(9*f(initial, yn0) + 19*fn1 - 5*fn2 + fn3)/24\n",
    "yn0 = yn1 + h*(9*f(initial, yn0) + 19*fn1 - 5*fn2 + fn3)/24\n",
    "fc = f(initial, yn0)\n",
    "print(abs(g(initial) - fc))"
   ]
  },
  {
   "cell_type": "code",
   "execution_count": null,
   "metadata": {},
   "outputs": [],
   "source": []
  }
 ],
 "metadata": {
  "kernelspec": {
   "display_name": "Python 3",
   "language": "python",
   "name": "python3"
  }
 },
 "nbformat": 4,
 "nbformat_minor": 2
}
