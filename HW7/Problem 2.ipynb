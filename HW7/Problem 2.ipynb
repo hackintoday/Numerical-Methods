{
 "cells": [
  {
   "cell_type": "code",
   "execution_count": 20,
   "metadata": {},
   "outputs": [
    {
     "ename": "SyntaxError",
     "evalue": "invalid syntax (<ipython-input-20-2cd5f23ff862>, line 7)",
     "output_type": "error",
     "traceback": [
      "\u001b[1;36m  File \u001b[1;32m\"<ipython-input-20-2cd5f23ff862>\"\u001b[1;36m, line \u001b[1;32m7\u001b[0m\n\u001b[1;33m    filtY = Y[((1+(x.real + x.imag)/2)/(1-(x.real + x.imag)/2)<1) for x in cnums]\u001b[0m\n\u001b[1;37m                                                                    ^\u001b[0m\n\u001b[1;31mSyntaxError\u001b[0m\u001b[1;31m:\u001b[0m invalid syntax\n"
     ]
    }
   ],
   "source": [
    "import matplotlib.pyplot as plt\n",
    "import numpy as np\n",
    "\n",
    "cnums = np.arange(-15,15) + 1j * np.arange(-15,15)\n",
    "X = [x.real for x in cnums]\n",
    "Y = [x.imag for x in cnums]\n",
    "filtY = Y[((1+(x.real + x.imag)/2)/(1-(x.real + x.imag)/2)<1) for x in cnums]\n",
    "plt.scatter(X,filtY, color='red')\n",
    "plt.ylabel('Imaginary')\n",
    "plt.xlabel('Real')\n",
    "plt.show()"
   ]
  },
  {
   "cell_type": "code",
   "execution_count": null,
   "metadata": {},
   "outputs": [],
   "source": [
    "#-- Generate some data...-------\n",
    "x = np.linspace(-10, 50, 100)\n",
    "y = x**2 + 3*x + 8\n",
    "\n",
    "# Add a lot of noise to part of the data...\n",
    "y[x < 10] += np.random.random(sum(x < 10)) * 300\n",
    "\n",
    "# Now let's extract only the part of the data we're interested in...\n",
    "x_filt = x[x > 10]\n",
    "y_filt = y[x > 10]\n",
    "\n",
    "# And fit a line to only that portion of the data.\n",
    "model = np.polyfit(x_filt, y_filt, 2)\n",
    "\n",
    "# And plot things up\n",
    "fig, axes = plt.subplots(nrows=2, sharex=True)\n",
    "axes[0].plot(x, y, 'bo')\n",
    "axes[1].plot(x_filt, y_filt, 'bo')\n",
    "axes[1].plot(x, np.polyval(model, x), 'r-')\n",
    "\n",
    "plt.show()"
   ]
  }
 ],
 "metadata": {
  "kernelspec": {
   "display_name": "Python 3",
   "language": "python",
   "name": "python3"
  },
  "language_info": {
   "codemirror_mode": {
    "name": "ipython",
    "version": 3
   },
   "file_extension": ".py",
   "mimetype": "text/x-python",
   "name": "python",
   "nbconvert_exporter": "python",
   "pygments_lexer": "ipython3",
   "version": "3.6.5"
  }
 },
 "nbformat": 4,
 "nbformat_minor": 2
}
